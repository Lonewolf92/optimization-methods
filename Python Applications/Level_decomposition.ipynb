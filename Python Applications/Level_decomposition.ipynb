{
 "cells": [
  {
   "cell_type": "markdown",
   "metadata": {},
   "source": [
    "# Level Decomposition for a two stage stochastic problem "
   ]
  },
  {
   "cell_type": "code",
   "execution_count": 42,
   "metadata": {},
   "outputs": [],
   "source": [
    "import gurobipy as gp;\n",
    "from gurobipy import GRB;\n",
    "import numpy as np;\n",
    "import math;\n",
    "import matplotlib\n",
    "import matplotlib.pyplot as plt"
   ]
  },
  {
   "cell_type": "markdown",
   "metadata": {},
   "source": [
    "Consider the following two stage stochastic problem:\n",
    "\n",
    "\\begin{equation}\n",
    "\\begin{array}{ll}\n",
    "\\displaystyle \\min & x_1 + 2x_2 + 2x_3 + x_4 + \\mathbb{E}_{\\xi}\\left[y_1 + 2y_2 + y_3 + 2y_4\\right] \\\\\n",
    "\\mbox{s.t.} & x_1 + x_2 \\leq 4 \\\\\n",
    "            & \\xi_1^kx_1 + x_2 + y_1 \\geq 7\\\\\n",
    "            & \\xi_2^kx_1 + x_2 +y_2 \\geq 4\\\\\n",
    "            & 0.5\\xi_1^kx_1 + x_3 +y_3 \\geq 5\\\\\n",
    "            & 0.5\\xi_2^kx_1 + x_4 +y_4 \\geq 8\\\\\n",
    "            & x,y \\geq 0\\\\\n",
    "\\end{array}\n",
    "\\end{equation}\n",
    "\n",
    "given \n",
    "\\begin{equation}\n",
    "(\\xi_1,\\xi_2) = \\left\\{\n",
    "\\begin{array}{ll}\n",
    "(1,1/3) & \\text{w.p} \\; \\frac{1}{4} \\\\\n",
    "(4,1) & \\text{w.p} \\; \\frac{1}{4} \\\\\n",
    "(5/2,2/3) & \\text{w.p} \\; \\frac{1}{4} \\\\\n",
    "(1,1) & \\text{w.p} \\; \\frac{1}{4} \\\\\n",
    "\\end{array}\n",
    "\\right.\n",
    "\\end{equation}\n",
    "\n",
    "* Subproblem **(optimality)**:\n",
    "\\begin{equation}\n",
    "\\begin{array}{lll}\n",
    "\\displaystyle Q(\\hat{x},\\xi^k) := \\min_{y} & y_1 + 2y_2 + y_3 + 2y_4 \\\\\n",
    "\\mbox{s.t.}   & \\xi_1^k\\hat{x}_1 + \\hat{x}_2 + y_1 \\geq 7 & (\\pi^k_1) \\\\\n",
    "              & \\xi_2^k\\hat{x}_1 + \\hat{x}_2 + y_2 \\geq 4 & (\\pi^k_2)\\\\\n",
    "              & 0.5xi_1^k\\hat{x}_1 + \\hat{x}_3 + y_3 \\geq 5 & (\\pi^k_3)\\\\\n",
    "              & 0.5xi_2^k\\hat{x}_1 + \\xi_1^k\\hat{x}_4 + y_4 \\geq 4 & (\\pi^k_4)\\\\\n",
    "              & y\\geq 0 \\\\\n",
    "\\end{array}\n",
    "\\end{equation}\n",
    "\n",
    "* Master problem **(multi cut)**:\n",
    "\n",
    "\\begin{equation}\n",
    "\\begin{array}{ll}\n",
    "\\displaystyle \\min & x_1 + 2x_2 + 2x_3 + x_4 + \\sum_{k=1}^4p_k\\theta_k \\\\\n",
    "\\mbox{s.t.}  & x_1 + x_2 \\leq 4 \\\\\n",
    "& \\theta_k \\geq  \\pi^k_1(7-\\xi_1^kx_1-x_2) + \\pi^k_2(4-\\xi_2^kx_1-x_2) + \\pi^k_3(5-0.5\\xi_1^kx_1-x_3) + \\pi^k_4(8-0.5\\xi_2^kx_1-\\xi_1^kx_4) & \\forall \\; \\pi^k \\in \\Pi \\\\\n",
    "& x \\geq 0 \\\\\n",
    "\\end{array}\n",
    "\\end{equation}"
   ]
  },
  {
   "cell_type": "markdown",
   "metadata": {},
   "source": [
    "## Parameters for the problem"
   ]
  },
  {
   "cell_type": "code",
   "execution_count": 43,
   "metadata": {},
   "outputs": [],
   "source": [
    "xi_comb = [(1,1/3), (4,1), (5/2,2/3), (1,1)]; # all possible scenarios\n",
    "\n",
    "num_scen = len(xi_comb);\n",
    "\n",
    "prob_scen = np.ones(num_scen)*1/num_scen; # prob of each scenario\n",
    "\n",
    "x_coeff = [1, 2, 2, 1]; # coefficients for x variables\n",
    "\n",
    "y_coeff = [1, 2, 1, 2]; # coefficients for y variables\n",
    "\n",
    "stab_cntr = np.zeros(num_scen); # stability center at iter=1 for level decomposition"
   ]
  },
  {
   "cell_type": "markdown",
   "metadata": {},
   "source": [
    "## Define level set problem"
   ]
  },
  {
   "cell_type": "code",
   "execution_count": 44,
   "metadata": {},
   "outputs": [],
   "source": [
    "LSP = gp.Model(\"LD Master\");\n",
    "\n",
    "x = {};\n",
    "for i in range(4):\n",
    "    x[i] = LSP.addVar(vtype = GRB.CONTINUOUS, lb = 0, ub = GRB.INFINITY, name = 'x' + str(i));\n",
    "    \n",
    "theta = {};\n",
    "for i in range(num_scen):\n",
    "    theta[i] = LSP.addVar(vtype = GRB.CONTINUOUS, lb = 0, ub = GRB.INFINITY, name = 'theta' + str(i));\n",
    "    \n",
    "C1_LSP = LSP.addConstr(x[0] + x[1] <= 4);\n",
    "\n",
    "Levelcon_LSP = LSP.addConstr(sum(x_coeff[i]*x[i] for i in range(4)) + sum(prob_scen[i]*theta[i] \\\n",
    "                                                                        for i in range(num_scen)) <= 0); \n",
    "\n",
    "# minimize the squared L-2 norm w.r.t. a stability center\n",
    "LSP.setObjective( 1/2 * sum( (x[i] - stab_cntr[i]) * (x[i] - stab_cntr[i])  for i in range(4)), GRB.MINIMIZE);\n",
    "    \n",
    "LSP.setParam(\"OutputFlag\", 0);\n",
    "LSP.update();"
   ]
  },
  {
   "cell_type": "markdown",
   "metadata": {},
   "source": [
    "## Define Sub Problem"
   ]
  },
  {
   "cell_type": "code",
   "execution_count": 45,
   "metadata": {},
   "outputs": [],
   "source": [
    "SP = gp.Model(\"LD Subproblem\");\n",
    "SP.modelsense = GRB.MINIMIZE;\n",
    "\n",
    "y = {};\n",
    "for i in range(4):\n",
    "    y[i] = SP.addVar(vtype = GRB.CONTINUOUS, lb = 0, ub = GRB.INFINITY, obj = y_coeff[i]);\n",
    "\n",
    "Constr_SP = {};\n",
    "Constr_SP[0] = SP.addConstr(y[0] >= 0); #rhs to be updated later\n",
    "Constr_SP[1] = SP.addConstr(y[1] >= 0); #rhs to be updated later\n",
    "Constr_SP[2] = SP.addConstr(y[2] >= 0); #rhs to be updated later\n",
    "Constr_SP[3] = SP.addConstr(y[3] >= 0); #rhs to be updated later\n",
    "\n",
    "SP.setParam(\"OutputFlag\", 0);\n",
    "SP.setParam(\"InfUnbdInfo\", 1);\n",
    "\n",
    "SP.update()"
   ]
  },
  {
   "cell_type": "markdown",
   "metadata": {},
   "source": [
    "## Level Decomposition with: \n",
    "1. $\\lambda = 0.2929$,\n",
    "2. Intial stability center = $(0,0,0,0)$, and \n",
    "3. Stability center at iter i, $z^i = x_i$ (current iterate solution)"
   ]
  },
  {
   "cell_type": "code",
   "execution_count": 46,
   "metadata": {
    "scrolled": false
   },
   "outputs": [
    {
     "name": "stdout",
     "output_type": "stream",
     "text": [
      "\n",
      "*******************************Iteration 1 *******************************\n",
      "F_Low:  0\n",
      "F_Up:  36\n",
      "Added Optimality Cut for Scenario  0 : theta 0 +  2.5 x1 +  3.0 x2 +  1.0 x3 +  2.0 x4 >=  36.0\n",
      "Added Optimality Cut for Scenario  1 : theta 1 +  9.0 x1 +  3.0 x2 +  1.0 x3 +  8.0 x4 >=  36.0\n",
      "Added Optimality Cut for Scenario  2 : theta 2 +  5.75 x1 +  3.0 x2 +  1.0 x3 +  5.0 x4 >=  36.0\n",
      "Added Optimality Cut for Scenario  3 : theta 3 +  4.5 x1 +  3.0 x2 +  1.0 x3 +  2.0 x4 >=  36.0\n",
      "Added constraint for projection of current iterate on level set: \n",
      "1 x1 +  2 x2 +  2 x3 +  1 x4 +  0.25 theta_1 +  0.25 theta_2 +  0.25 theta_3 +  0.25 theta_4 <=  10.5444\n",
      "\n",
      "x1 = 0.000000, x2 = 0.000000, x3 = 0.000000, x4 = 0.000000\n",
      "\n",
      "*******************************Iteration 2 *******************************\n",
      "F_Low:  10.5444\n",
      "F_Up:  18.546494756688624\n",
      "Added Optimality Cut for Scenario  1 : theta 1 +  2.0 x1 +  2.0 x2 +  0.0 x3 +  0.0 x4 >=  8.0\n",
      "Added Optimality Cut for Scenario  2 : theta 2 +  3.2499999999999996 x1 +  2.0 x2 +  1.0 x3 +  5.0 x4 >=  29.0\n",
      "Added constraint for projection of current iterate on level set: \n",
      "1 x1 +  2 x2 +  2 x3 +  1 x4 +  0.25 theta_1 +  0.25 theta_2 +  0.25 theta_3 +  0.25 theta_4 <=  18.00034524\n",
      "\n",
      "x1 = 3.071180, x2 = 0.350992, x3 = 0.000000, x4 = 1.754960\n",
      "\n",
      "*******************************Iteration 3 *******************************\n",
      "F_Low:  14.545524118433027\n",
      "F_Up:  15.741471735803861\n",
      "Added Optimality Cut for Scenario  2 : theta 2 +  2.583333333333333 x1 +  2.0 x2 +  1.0 x3 +  0.0 x4 >=  13.0\n",
      "Added constraint for projection of current iterate on level set: \n",
      "1 x1 +  2 x2 +  2 x3 +  1 x4 +  0.25 theta_1 +  0.25 theta_2 +  0.25 theta_3 +  0.25 theta_4 <=  15.717408418378092\n",
      "\n",
      "x1 = 3.946408, x2 = 0.053592, x3 = 0.000000, x4 = 2.693063\n",
      "\n",
      "*******************************Iteration 4 *******************************\n",
      "F_Low:  15.635770998027262\n",
      "F_Up:  15.666730738489225\n",
      "Added constraint for projection of current iterate on level set: \n",
      "1 x1 +  2 x2 +  2 x3 +  1 x4 +  0.25 theta_1 +  0.25 theta_2 +  0.25 theta_3 +  0.25 theta_4 <=  15.666730744122027\n",
      "\n",
      "x1 = 3.999954, x2 = 0.000046, x3 = 0.000000, x4 = 2.693063\n",
      "\n",
      "*******************************Iteration 5 *******************************\n",
      "F_Low:  15.666645237420264\n",
      "F_Up:  15.666668135558528\n",
      "\n",
      "\t\t<<<<Model converged within the required gap.>>>>\n",
      "\n",
      "x1 = 3.999999, x2 = 0.000000, x3 = 0.000000, x4 = 2.693063, Best Objective = 15.666645, Total iterations = 5\n"
     ]
    }
   ],
   "source": [
    "F_Low = 0;\n",
    "F_up = 36;\n",
    "F_lev = 0;\n",
    "F_Low_list = [];\n",
    "F_up_list = []\n",
    "iter = 0;\n",
    "lmbda = 0.2929; # optimal value of lambda for convergence\n",
    "\n",
    "while (F_up-F_Low)*1/F_up > 1e-5:\n",
    "    \n",
    "    iter += 1;    \n",
    "    print('\\n*******************************Iteration', iter, '*******************************')\n",
    "      \n",
    "    F_lev = F_Low + lmbda*(F_up - F_Low);\n",
    "    Levelcon_LSP.setAttr(GRB.Attr.RHS, F_lev); \n",
    "    \n",
    "    LSP.optimize();\n",
    "    \n",
    "    while LSP.status != 2:\n",
    "        F_Low = F_lev;\n",
    "        F_lev = F_Low + lmbda*(F_up - F_Low);\n",
    "        Levelcon_LSP.setAttr(GRB.Attr.RHS, F_lev);\n",
    "        LSP.optimize();\n",
    "        \n",
    "    print('F_Low: ', F_Low);\n",
    "    F_Low_list.append(F_Low);\n",
    "           \n",
    "    xval = np.zeros(4);\n",
    "    for i in range(4):\n",
    "        xval[i] = x[i].x;\n",
    "\n",
    "    theta_val = np.zeros(num_scen);   \n",
    "    for i in range(num_scen):\n",
    "        theta_val[i] = theta[i].x;\n",
    "        \n",
    "    stab_cntr = xval;    \n",
    "    LSP.setObjective(1/2 * sum( (x[i] - stab_cntr[i]) * (x[i] - stab_cntr[i]) for i in range(4)), GRB.MINIMIZE);   \n",
    "    LSP.update()\n",
    " \n",
    "    duals = np.zeros(num_scen, dtype = np.ndarray);\n",
    "    SP_objval = np.zeros(num_scen);\n",
    "\n",
    "    teLSP_F_up = 0;\n",
    "\n",
    "    for i in range(num_scen):\n",
    "        Constr_SP[0].setAttr(GRB.Attr.RHS, 7 - xi_comb[i][0]*xval[0] - xval[1]);\n",
    "        Constr_SP[1].setAttr(GRB.Attr.RHS, 4 - xi_comb[i][1]*xval[0] - xval[1]);\n",
    "        Constr_SP[2].setAttr(GRB.Attr.RHS, 5 - 0.5*xi_comb[i][0]*xval[0] - xval[2]);\n",
    "        Constr_SP[3].setAttr(GRB.Attr.RHS, 8 - 0.5*xi_comb[i][1]*xval[0] - xi_comb[i][0]*xval[3]);\n",
    "\n",
    "        SP.update();\n",
    "        SP.optimize();\n",
    "\n",
    "        SP_objval[i] = SP.objVal;\n",
    "        duals[i] = [Constr_SP[0].pi, Constr_SP[1].pi, Constr_SP[2].pi, Constr_SP[3].pi];\n",
    "\n",
    "    teLSP_F_up = sum(xval[i] * x_coeff[i] for i in range(4)) + sum(prob_scen[i] * SP_objval[i] \n",
    "                                                                          for i in range(num_scen));              \n",
    "    if teLSP_F_up < F_up:\n",
    "        F_up = teLSP_F_up;\n",
    "\n",
    "    print('F_Up: ', F_up);\n",
    "    F_up_list.append(F_up);\n",
    "    \n",
    "    if (F_up-F_Low)*1/F_up < 1e-5:\n",
    "        break;\n",
    "        \n",
    "    else:\n",
    "        scenr_count = 0;\n",
    "\n",
    "        for i in range(num_scen): \n",
    "            if theta_val[i] < SP_objval[i] - 1e-5: \n",
    "            \n",
    "                ocut_rhs = 7*duals[i][0] + 4*duals[i][1] + 5*duals[i][2] +  8*duals[i][3];\n",
    "\n",
    "                LSP.addConstr(theta[i] + duals[i][0] * (xi_comb[i][0]*x[0] + x[1]) \\\n",
    "                                + duals[i][1] * (xi_comb[i][1]*x[0] + x[1]) \\\n",
    "                                + duals[i][2] * (0.5*xi_comb[i][0]*x[0] + x[2]) \\\n",
    "                                + duals[i][3] * (0.5*xi_comb[i][1]*x[0] + xi_comb[i][0]*x[3]) >= ocut_rhs);\n",
    "\n",
    "                print('Added Optimality Cut for Scenario ',scenr_count, ': theta', str(i), '+ ',\n",
    "                      (duals[i][0]*xi_comb[i][0] + duals[i][1]*xi_comb[i][1] + duals[i][2]*0.5*xi_comb[i][0] \n",
    "                       + duals[i][3]*0.5*xi_comb[i][1]), 'x1 + ' ,duals[i][0] + duals[i][1], 'x2 + ' , \n",
    "                      duals[i][2], 'x3 + ', duals[i][3]*xi_comb[i][0], 'x4 >= ', ocut_rhs);\n",
    "\n",
    "            scenr_count += 1;\n",
    "            \n",
    "    print('Added constraint for projection of current iterate on level set: ')       \n",
    "    print( x_coeff[0], 'x1 + ', x_coeff[1], 'x2 + ',x_coeff[2], 'x3 + ',x_coeff[3], 'x4 + ', prob_scen[0], 'theta_1 + ', \n",
    "        prob_scen[1], 'theta_2 + ', prob_scen[2], 'theta_3 + ', prob_scen[3], 'theta_4 <= ', F_lev);\n",
    "    \n",
    "    print('\\nx1 = %f, x2 = %f, x3 = %f, x4 = %f' % (xval[0], xval[1], xval[2], xval[3]));\n",
    "    \n",
    "print('\\n\\t\\t<<<<Model converged within the required gap.>>>>')\n",
    "\n",
    "print('\\nx1 = %f, x2 = %f, x3 = %f, x4 = %f, Best Objective = %f, Total iterations = %d' \\\n",
    "      % (xval[0], xval[1], xval[2], xval[3], F_Low, iter));"
   ]
  },
  {
   "cell_type": "markdown",
   "metadata": {},
   "source": [
    "## Convergence of level decomposition"
   ]
  },
  {
   "cell_type": "code",
   "execution_count": 47,
   "metadata": {
    "scrolled": true
   },
   "outputs": [
    {
     "data": {
      "image/png": "[encoded data removed]",
      "text/plain": [
       "<Figure size 720x360 with 1 Axes>"
      ]
     },
     "metadata": {
      "needs_background": "light"
     },
     "output_type": "display_data"
    }
   ],
   "source": [
    "fig, ax = plt.subplots(figsize=(10,5));\n",
    "\n",
    "ax.plot([i for i in range(1,iter+1)], F_Low_list, label = 'Lower Bound');\n",
    "ax.plot([i for i in range(1,iter+1)], F_up_list, label = 'Upper Bound');\n",
    "\n",
    "ax.set(xlabel='Iteration', ylabel='Best Bound',\n",
    "       title='Convergence for Level Decomposition method')\n",
    "ax.grid()\n",
    "ax.axvline(x=4, color = 'r', ls = '--')\n",
    "ax.legend()\n",
    "plt.show()"
   ]
  },
  {
   "cell_type": "markdown",
   "metadata": {},
   "source": [
    "## Level Decomposition with: \n",
    "1. $\\lambda = 0.2929$,\n",
    "2. Intial stability center = $(3.99,0,0,2.69)$, and \n",
    "3. Stability center at iter i, $z^i = x_i$ (current iterate solution)"
   ]
  },
  {
   "cell_type": "code",
   "execution_count": 48,
   "metadata": {},
   "outputs": [],
   "source": [
    "stab_cntr = [3.99, 0, 0, 2.69]; #good initial solution (iteration 4 solution)"
   ]
  },
  {
   "cell_type": "code",
   "execution_count": 49,
   "metadata": {},
   "outputs": [
    {
     "name": "stdout",
     "output_type": "stream",
     "text": [
      "\n",
      "*******************************Iteration 1 *******************************\n",
      "F_Low:  10.5444\n",
      "F_Up:  15.667172982193948\n",
      "Added constraint for projection of current iterate on level set: \n",
      "1 x1 +  2 x2 +  2 x3 +  1 x4 +  0.25 theta_1 +  0.25 theta_2 +  0.25 theta_3 +  0.25 theta_4 <=  18.00034524\n",
      "\n",
      "x1 = 3.999809, x2 = 0.000107, x3 = 0.000158, x4 = 2.693063\n",
      "\n",
      "*******************************Iteration 2 *******************************\n",
      "F_Low:  15.666547799599103\n",
      "F_Up:  15.666698723080689\n",
      "\n",
      "\t\t<<<<Model converged within the required gap.>>>>\n",
      "\n",
      "x1 = 3.999985, x2 = 0.000010, x3 = 0.000007, x4 = 2.693065, Best Objective = 15.666548, Total iterations = 2\n"
     ]
    }
   ],
   "source": [
    "F_Low = 0;\n",
    "F_up = 36;\n",
    "F_lev = 0;\n",
    "F_Low_list = [];\n",
    "F_up_list = []\n",
    "iter = 0;\n",
    "lmbda = 0.2929; # optimal value of lambda for convergence\n",
    "\n",
    "while (F_up-F_Low)*1/F_up > 1e-5:\n",
    "    \n",
    "    iter += 1;    \n",
    "    print('\\n*******************************Iteration', iter, '*******************************')\n",
    "      \n",
    "    F_lev = F_Low + lmbda*(F_up - F_Low);\n",
    "    Levelcon_LSP.setAttr(GRB.Attr.RHS, F_lev); \n",
    "    \n",
    "    LSP.optimize();\n",
    "    \n",
    "    while LSP.status != 2:\n",
    "        F_Low = F_lev;\n",
    "        F_lev = F_Low + lmbda*(F_up - F_Low);\n",
    "        Levelcon_LSP.setAttr(GRB.Attr.RHS, F_lev);\n",
    "        LSP.optimize();\n",
    "        \n",
    "    print('F_Low: ', F_Low);\n",
    "    F_Low_list.append(F_Low);\n",
    "           \n",
    "    xval = np.zeros(4);\n",
    "    for i in range(4):\n",
    "        xval[i] = x[i].x;\n",
    "\n",
    "    theta_val = np.zeros(num_scen);   \n",
    "    for i in range(num_scen):\n",
    "        theta_val[i] = theta[i].x;\n",
    "        \n",
    "    stab_cntr = xval;    \n",
    "    LSP.setObjective(1/2 * sum( (x[i] - stab_cntr[i]) * (x[i] - stab_cntr[i]) for i in range(4)), GRB.MINIMIZE);   \n",
    "    LSP.update()\n",
    " \n",
    "    duals = np.zeros(num_scen, dtype = np.ndarray);\n",
    "    SP_objval = np.zeros(num_scen);\n",
    "\n",
    "    teLSP_F_up = 0;\n",
    "\n",
    "    for i in range(num_scen):\n",
    "        Constr_SP[0].setAttr(GRB.Attr.RHS, 7 - xi_comb[i][0]*xval[0] - xval[1]);\n",
    "        Constr_SP[1].setAttr(GRB.Attr.RHS, 4 - xi_comb[i][1]*xval[0] - xval[1]);\n",
    "        Constr_SP[2].setAttr(GRB.Attr.RHS, 5 - 0.5*xi_comb[i][0]*xval[0] - xval[2]);\n",
    "        Constr_SP[3].setAttr(GRB.Attr.RHS, 8 - 0.5*xi_comb[i][1]*xval[0] - xi_comb[i][0]*xval[3]);\n",
    "\n",
    "        SP.update();\n",
    "        SP.optimize();\n",
    "\n",
    "        SP_objval[i] = SP.objVal;\n",
    "        duals[i] = [Constr_SP[0].pi, Constr_SP[1].pi, Constr_SP[2].pi, Constr_SP[3].pi];\n",
    "\n",
    "    teLSP_F_up = sum(xval[i] * x_coeff[i] for i in range(4)) + sum(prob_scen[i] * SP_objval[i] \n",
    "                                                                          for i in range(num_scen));              \n",
    "    if teLSP_F_up < F_up:\n",
    "        F_up = teLSP_F_up;\n",
    "\n",
    "    print('F_Up: ', F_up);\n",
    "    F_up_list.append(F_up);\n",
    "    \n",
    "    if (F_up-F_Low)*1/F_up < 1e-5:\n",
    "        break;\n",
    "        \n",
    "    else:\n",
    "        scenr_count = 0;\n",
    "\n",
    "        for i in range(num_scen): \n",
    "            if theta_val[i] < SP_objval[i] - 1e-5: \n",
    "            \n",
    "                ocut_rhs = 7*duals[i][0] + 4*duals[i][1] + 5*duals[i][2] +  8*duals[i][3];\n",
    "\n",
    "                LSP.addConstr(theta[i] + duals[i][0] * (xi_comb[i][0]*x[0] + x[1]) \\\n",
    "                                + duals[i][1] * (xi_comb[i][1]*x[0] + x[1]) \\\n",
    "                                + duals[i][2] * (0.5*xi_comb[i][0]*x[0] + x[2]) \\\n",
    "                                + duals[i][3] * (0.5*xi_comb[i][1]*x[0] + xi_comb[i][0]*x[3]) >= ocut_rhs);\n",
    "\n",
    "                print('Added Optimality Cut for Scenario ',scenr_count, ': theta', str(i), '+ ',\n",
    "                      (duals[i][0]*xi_comb[i][0] + duals[i][1]*xi_comb[i][1] + duals[i][2]*0.5*xi_comb[i][0] \n",
    "                       + duals[i][3]*0.5*xi_comb[i][1]), 'x1 + ' ,duals[i][0] + duals[i][1], 'x2 + ' , \n",
    "                      duals[i][2], 'x3 + ', duals[i][3]*xi_comb[i][0], 'x4 >= ', ocut_rhs);\n",
    "\n",
    "            scenr_count += 1;\n",
    "            \n",
    "    print('Added constraint for projection of current iterate on level set: ')       \n",
    "    print( x_coeff[0], 'x1 + ', x_coeff[1], 'x2 + ',x_coeff[2], 'x3 + ',x_coeff[3], 'x4 + ', prob_scen[0], 'theta_1 + ', \n",
    "        prob_scen[1], 'theta_2 + ', prob_scen[2], 'theta_3 + ', prob_scen[3], 'theta_4 <= ', F_lev);\n",
    "    \n",
    "    print('\\nx1 = %f, x2 = %f, x3 = %f, x4 = %f' % (xval[0], xval[1], xval[2], xval[3]));\n",
    "    \n",
    "print('\\n\\t\\t<<<<Model converged within the required gap.>>>>')\n",
    "\n",
    "print('\\nx1 = %f, x2 = %f, x3 = %f, x4 = %f, Best Objective = %f, Total iterations = %d' \\\n",
    "      % (xval[0], xval[1], xval[2], xval[3], F_Low, iter));"
   ]
  },
  {
   "cell_type": "markdown",
   "metadata": {},
   "source": [
    "## Convergence for good initial solution"
   ]
  },
  {
   "cell_type": "code",
   "execution_count": 50,
   "metadata": {},
   "outputs": [
    {
     "data": {
      "image/png": "[encoded data removed]",
      "text/plain": [
       "<Figure size 720x360 with 1 Axes>"
      ]
     },
     "metadata": {
      "needs_background": "light"
     },
     "output_type": "display_data"
    }
   ],
   "source": [
    "fig, ax = plt.subplots(figsize=(10,5));\n",
    "\n",
    "ax.plot([i for i in range(1,iter+1)], F_Low_list, label = 'Lower Bound');\n",
    "ax.plot([i for i in range(1,iter+1)], F_up_list, label = 'Upper Bound');\n",
    "\n",
    "ax.set(xlabel='Iteration', ylabel='Best Bound',\n",
    "       title='Convergence for Level Decomposition method with good initial solution')\n",
    "ax.grid()\n",
    "ax.axvline(x=2, color = 'r', ls = '--')\n",
    "ax.legend()\n",
    "plt.show()"
   ]
  }
 ],
 "metadata": {
  "kernelspec": {
   "display_name": "Python 3",
   "language": "python",
   "name": "python3"
  },
  "language_info": {
   "codemirror_mode": {
    "name": "ipython",
    "version": 3
   },
   "file_extension": ".py",
   "mimetype": "text/x-python",
   "name": "python",
   "nbconvert_exporter": "python",
   "pygments_lexer": "ipython3",
   "version": "3.7.4"
  }
 },
 "nbformat": 4,
 "nbformat_minor": 2
}
